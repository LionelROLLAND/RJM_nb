{
  "cells": [
    {
      "cell_type": "markdown",
      "source": [
        "> **Petit exercice d'info sympa : La fourmi de Langton**\n",
        "\n",
        "\n",
        "\n"
      ],
      "metadata": {
        "id": "IfQ599sLFi5V"
      }
    },
    {
      "cell_type": "markdown",
      "source": [
        "Quelques outils que je vous fournis (voir explications ci-dessous) :"
      ],
      "metadata": {
        "id": "NiKNnobwHO5H"
      }
    },
    {
      "cell_type": "code",
      "source": [
        "!pip install matplotlib\n",
        "\n",
        "import matplotlib.pyplot as plt\n",
        "import matplotlib.animation as am\n",
        "\n",
        "class tableau():\n",
        "\t\n",
        "\tdef __init__(self, tab, d, x_b = 0, y_b = 0):\n",
        "\t\tself.d_val = d\n",
        "\t\tself.x_b = x_b\n",
        "\t\tself.y_b = y_b\n",
        "\t\tself.w = len(tab[0])\n",
        "\t\tself.h = len(tab)\n",
        "\t\tself.id = tab\n",
        "\t\n",
        "\tdef show(self, inter = 'nearest'):\n",
        "\t\tplt.figure()\n",
        "\t\tplt.imshow(self.id, cmap = 'gray', interpolation = inter)\n",
        "\t\tplt.pause(0.1)\n",
        "\t\n",
        "\tdef copy(self):\n",
        "\t\ttemp = [[self.id[i][j] for j in range(self.w)] for i in range(self.h)]\n",
        "\t\treturn tableau(temp, self.d_val, self.x_b, self.y_b)\n",
        "\t\n",
        "\tdef reverse_y(self):\n",
        "\t\ttemp = []\n",
        "\t\tfor i in range(self.h):\n",
        "\t\t\ttemp.append(self.id[self.h - i - 1])\n",
        "\t\tself.id = temp\n",
        "\t\n",
        "\tdef add_c(self, c):\n",
        "\t\tif c>0:\n",
        "\t\t\tfor j in range(self.h):\n",
        "\t\t\t\tself.id[j] = self.id[j] + [self.d_val]\n",
        "\t\telse:\n",
        "\t\t\tfor j in range(self.h):\n",
        "\t\t\t\tself.id[j] = [self.d_val] + self.id[j]\n",
        "\t\t\tself.x_b -= 1\n",
        "\t\tself.w += 1\n",
        "\t\n",
        "\tdef add_l(self, c):\n",
        "\t\tif c>0:\n",
        "\t\t\tself.id = self.id + [[self.d_val for i in range(self.w)]]\n",
        "\t\telse:\n",
        "\t\t\tself.id = [[self.d_val for i in range(self.w)]] + self.id\n",
        "\t\t\tself.y_b -= 1\n",
        "\t\tself.h += 1\n",
        "\t\n",
        "\tdef elt(self,x,y):\n",
        "\t\tif x<self.x_b or y<self.y_b or x>=self.x_b+self.w or y>=self.y_b+self.h:\n",
        "\t\t\treturn self.d_val\n",
        "\t\telse:\n",
        "\t\t\treturn self.id[y-self.y_b][x-self.x_b]\n",
        "\t\n",
        "\tdef chg_elt(self,x,y,e):\n",
        "\t\tif x<self.x_b or x>=self.x_b+self.w:\n",
        "\t\t\tself.add_c(x-self.x_b)\n",
        "\t\t\tself.chg_elt(x,y,e)\n",
        "\t\telif y<self.y_b or y>=self.y_b+self.h:\n",
        "\t\t\tself.add_l(y-self.y_b)\n",
        "\t\t\tself.chg_elt(x,y,e)\n",
        "\t\telse:\n",
        "\t\t\tself.id[y-self.y_b][x-self.x_b] = e\n",
        "\t\n",
        "\tdef include(self,left,right,bottom,top):\n",
        "\t\tself.chg_elt(left,bottom,self.elt(left,bottom))\n",
        "\t\tself.chg_elt(right,top,self.elt(right,top))\n",
        "\n",
        "def affiche_joli(t):\n",
        "  for e in t:\n",
        "    print(e)"
      ],
      "outputs": [],
      "execution_count": null,
      "metadata": {
        "id": "DqaCsjrfG9mZ"
      }
    },
    {
      "cell_type": "markdown",
      "source": [
        "En résumé rapide : La classe \"tableau\" mime un tableau infini.\n",
        "\n",
        "Exemple :\n",
        "\n",
        "je prends l'instruction suivante :"
      ],
      "metadata": {
        "id": "XwWcPJJRGUco"
      }
    },
    {
      "cell_type": "code",
      "source": [
        "t = tableau([[1]],1)"
      ],
      "outputs": [],
      "execution_count": null,
      "metadata": {
        "id": "3ITpdnQjFhHf"
      }
    },
    {
      "cell_type": "markdown",
      "source": [
        "Par défaut, toutes les valeurs de t valent la valeur du deuxième argument passé à la fonction tableau, ici 1.\n",
        "\n",
        "On accède à l'élément d'abscisse x et d'ordonnée y par la méthode t.elt(x,y) (équivalent donc à t[y][x] pour un tableau python \"classique\" (c'est-à-dire une liste de listes, qu'on appellera par la suite \"array\" pour éviter les confusions avec la classe tableau introduite)).\n",
        "\n",
        "Exemple :"
      ],
      "metadata": {
        "id": "F5HYL_0CHgJE"
      }
    },
    {
      "cell_type": "code",
      "source": [
        "print(t.elt(-14,17))"
      ],
      "outputs": [],
      "execution_count": null,
      "metadata": {
        "id": "PZoxl9voHvC0"
      }
    },
    {
      "cell_type": "markdown",
      "source": [
        "Evidemment, étant donné que même la mémoire des serveurs que nous sommes en train d'utiliser n'est pas infinie, les valeurs de t ne sont donc pas stockées une à une dans la mémoire.\n",
        "\n",
        "L'astuce consiste à dire que les valeurs de t sont toutes égales à 1 (pas besoin de les stocker une à une donc), sauf pour un nombre fini d'entre elles, qui seront stockées dans un array, auquel on peut accéder par la méthode t.id.\n",
        "\n",
        "Initialement, t.id vaut le premier argument passé à la fonction tableau, ici [[1]]."
      ],
      "metadata": {
        "id": "lw_nkAT3JK4W"
      }
    },
    {
      "cell_type": "code",
      "source": [
        "print(t.id)"
      ],
      "outputs": [],
      "execution_count": null,
      "metadata": {
        "id": "Ew7RduhJLF4D"
      }
    },
    {
      "cell_type": "markdown",
      "source": [
        "Ensuite, lorsque l'on veut modifier des cases (avec la méthode t.chg_elt(x,y,e), qui assigne à l'élément d'abscisse x et d'ordonnée y la valeur e, équivalent donc à t[y][x] = e pour un array) qui ne sont pas stockées dans t.id, t.id va simplement être agrandi pour contenir ces cases :"
      ],
      "metadata": {
        "id": "vtgKB8sfLEYj"
      }
    },
    {
      "cell_type": "code",
      "source": [
        "t.chg_elt(2,3,78)\n",
        "print(t.elt(2,3))\n",
        "affiche_joli(t.id)"
      ],
      "outputs": [],
      "execution_count": null,
      "metadata": {
        "id": "tWbi1NCRLs6_"
      }
    },
    {
      "cell_type": "markdown",
      "source": [
        "Repérons sur t.id où est le 0:"
      ],
      "metadata": {
        "id": "fpxP15ipWdS0"
      }
    },
    {
      "cell_type": "code",
      "source": [
        "t.chg_elt(0,0,0)\n",
        "affiche_joli(t.id)"
      ],
      "outputs": [],
      "execution_count": null,
      "metadata": {
        "id": "LBbDbAZTWc4M"
      }
    },
    {
      "cell_type": "markdown",
      "source": [
        "Encore un exemple de modification du tableau :"
      ],
      "metadata": {
        "id": "uQ1V99liWrkr"
      }
    },
    {
      "cell_type": "code",
      "source": [
        "t.chg_elt(-2,-3,65)\n",
        "print(t.elt(-2,-3))\n",
        "affiche_joli(t.id)"
      ],
      "outputs": [],
      "execution_count": null,
      "metadata": {
        "id": "-UH1mN7sTiSr"
      }
    },
    {
      "cell_type": "markdown",
      "source": [
        "On peut agrandir \"manuellement\" t.id avec t.include(left,right,bottom,top) qui va faire en sorte que t.id stocke les valeurs incluses dans un rectangle délmité par left à gauche, right à droite, bottom en bas et top en haut :"
      ],
      "metadata": {
        "id": "FPlEN9F2ULOU"
      }
    },
    {
      "cell_type": "code",
      "source": [
        "t.include(-3,2,-4,3)\n",
        "affiche_joli(t.id)"
      ],
      "outputs": [],
      "execution_count": null,
      "metadata": {
        "id": "7EKD2OM3U0zU"
      }
    },
    {
      "cell_type": "markdown",
      "source": [
        "Afin d'éviter des problèmes, on a doté la classe tableau d'une méthode .copy :"
      ],
      "metadata": {
        "nteract": {
          "transient": {
            "deleting": false
          }
        }
      }
    },
    {
      "cell_type": "code",
      "source": [
        "a = tableau([[0]],0)\n",
        "b = a #maintenant b = a, mais ce sera tout le temps vrai ! Les changements appliqués à a se répercuteront sur b. Ce problème existe aussi avec les arrays.\n",
        "c = a.copy() #Evite ce problème\n",
        "\n",
        "a.chg_elt(0,0,75)\n",
        "affiche_joli(a.id)\n",
        "print(\"\\n\")\n",
        "affiche_joli(b.id)\n",
        "print(\"\\n\")\n",
        "affiche_joli(c.id)"
      ],
      "outputs": [],
      "execution_count": null,
      "metadata": {
        "collapsed": true,
        "jupyter": {
          "source_hidden": false,
          "outputs_hidden": false
        },
        "nteract": {
          "transient": {
            "deleting": false
          }
        }
      }
    },
    {
      "cell_type": "markdown",
      "source": [
        "Dans le cas d'un tableau constitué uniquement de 0 et de 1, la méthode t.show() donne une représentation de ce t.id (0 = noir, 1 = blanc) :"
      ],
      "metadata": {
        "id": "NseGRXb9XlZ_"
      }
    },
    {
      "cell_type": "code",
      "source": [
        "new = tableau([[1]],1)\n",
        "new.chg_elt(0,1,0)\n",
        "new.chg_elt(1,0,0)\n",
        "affiche_joli(new.id)\n",
        "new.show()"
      ],
      "outputs": [],
      "execution_count": null,
      "metadata": {
        "id": "a_ezxDHiXlEp"
      }
    },
    {
      "cell_type": "markdown",
      "source": [
        "Maintenant entrons dans le vif du sujet. La fourmi de Langton répond à des règles simples :\n",
        "\n",
        "Elle évolue sur un tableau à cases carrées, initialement toutes blanches.\n",
        "\n",
        "A chaque étape :\n",
        "\n",
        "1) Elle change la couleur de la case sur laquelle elle est : Une case blanche devient noire et inversement.\n",
        "\n",
        "2) Elle avance\n",
        "\n",
        "3) Si la case sur laquelle elle arrive est blanche, elle tourne à droite, si la case est noire, elle tourne à gauche."
      ],
      "metadata": {
        "nteract": {
          "transient": {
            "deleting": false
          }
        }
      }
    },
    {
      "cell_type": "markdown",
      "source": [
        "De quelles informations va-t-on avoir besoin pour établir la trajectoire de la fourmi ?\n",
        "\n",
        "Autrement dit, de quelles informations va-t-on avoir besoin pour passer de l'étape n à l'étape n+1 ?"
      ],
      "metadata": {
        "nteract": {
          "transient": {
            "deleting": false
          }
        }
      }
    },
    {
      "cell_type": "markdown",
      "source": [
        "Comment peut-on afficher la fourmi ? Faire des tests."
      ],
      "metadata": {
        "nteract": {
          "transient": {
            "deleting": false
          }
        }
      }
    },
    {
      "cell_type": "code",
      "source": [],
      "outputs": [],
      "execution_count": null,
      "metadata": {
        "collapsed": true,
        "jupyter": {
          "source_hidden": false,
          "outputs_hidden": false
        },
        "nteract": {
          "transient": {
            "deleting": false
          }
        }
      }
    },
    {
      "cell_type": "markdown",
      "source": [
        "Comment va-t-on coder sa direction, en pensant au fait que l'on doive pouvoir changer sa position facilement en fonction de sa direction ?"
      ],
      "metadata": {
        "nteract": {
          "transient": {
            "deleting": false
          }
        }
      }
    },
    {
      "cell_type": "markdown",
      "source": [
        "Finalement, que va-t-on utiliser pour représenter une étape de la fourmi ?"
      ],
      "metadata": {
        "nteract": {
          "transient": {
            "deleting": false
          }
        }
      }
    },
    {
      "cell_type": "markdown",
      "source": [
        "Faire se déplacer la fourmi, en utilisant sa direction, sa position, et le tableau sur lequel elle se déplace."
      ],
      "metadata": {
        "nteract": {
          "transient": {
            "deleting": false
          }
        }
      }
    },
    {
      "cell_type": "code",
      "source": [],
      "outputs": [],
      "execution_count": null,
      "metadata": {
        "collapsed": true,
        "jupyter": {
          "source_hidden": false,
          "outputs_hidden": false
        },
        "nteract": {
          "transient": {
            "deleting": false
          }
        }
      }
    },
    {
      "cell_type": "markdown",
      "source": [
        "Comment la faire changer de direction ? Comment coder le fait de tourner à droite/gauche ?"
      ],
      "metadata": {
        "nteract": {
          "transient": {
            "deleting": false
          }
        }
      }
    },
    {
      "cell_type": "code",
      "source": [],
      "outputs": [],
      "execution_count": null,
      "metadata": {
        "collapsed": true,
        "jupyter": {
          "source_hidden": false,
          "outputs_hidden": false
        },
        "nteract": {
          "transient": {
            "deleting": false
          }
        }
      }
    },
    {
      "cell_type": "markdown",
      "source": [
        "Faire des tests en faisant se déplacer la fourmi."
      ],
      "metadata": {
        "nteract": {
          "transient": {
            "deleting": false
          }
        }
      }
    },
    {
      "cell_type": "code",
      "source": [],
      "outputs": [],
      "execution_count": null,
      "metadata": {
        "collapsed": true,
        "jupyter": {
          "source_hidden": false,
          "outputs_hidden": false
        },
        "nteract": {
          "transient": {
            "deleting": false
          }
        }
      }
    },
    {
      "cell_type": "markdown",
      "source": [
        "Comment changer la couleur de la case sur laquelle la fourmi passe ?"
      ],
      "metadata": {
        "nteract": {
          "transient": {
            "deleting": false
          }
        }
      }
    },
    {
      "cell_type": "code",
      "source": [],
      "outputs": [],
      "execution_count": null,
      "metadata": {
        "collapsed": true,
        "jupyter": {
          "source_hidden": false,
          "outputs_hidden": false
        },
        "nteract": {
          "transient": {
            "deleting": false
          }
        }
      }
    },
    {
      "cell_type": "markdown",
      "source": [
        "Coder la fonction faisant passer la fourmi de l'étape n à l'étape n+1."
      ],
      "metadata": {
        "nteract": {
          "transient": {
            "deleting": false
          }
        }
      }
    },
    {
      "cell_type": "code",
      "source": [],
      "outputs": [],
      "execution_count": null,
      "metadata": {
        "collapsed": true,
        "jupyter": {
          "source_hidden": false,
          "outputs_hidden": false
        },
        "nteract": {
          "transient": {
            "deleting": false
          }
        }
      }
    },
    {
      "cell_type": "markdown",
      "source": [
        "Coder une fonction faisant aboutir la fourmi à l'étape n, puis une autre affichant le tableau à l'étape n. La tester pour diverses valeurs de n (100, 1000, 10000)"
      ],
      "metadata": {
        "nteract": {
          "transient": {
            "deleting": false
          }
        }
      }
    },
    {
      "cell_type": "code",
      "source": [],
      "outputs": [],
      "execution_count": null,
      "metadata": {
        "collapsed": true,
        "jupyter": {
          "source_hidden": false,
          "outputs_hidden": false
        },
        "nteract": {
          "transient": {
            "deleting": false
          }
        }
      }
    },
    {
      "cell_type": "markdown",
      "source": [
        "Un nouvel outil :"
      ],
      "metadata": {
        "nteract": {
          "transient": {
            "deleting": false
          }
        }
      }
    },
    {
      "cell_type": "code",
      "source": [
        "def video(l, ms):\n",
        "\tfig, ax = plt.subplots()\n",
        "\tax.imshow(l[0],cmap='gray')\n",
        "\tims = [[ax.imshow(l[i],cmap='gray',animated=True)] for i in range(len(l))]\n",
        "\tani = am.ArtistAnimation(fig, ims, interval=ms, blit=True, repeat_delay=5000)\n",
        "\tplt.show()"
      ],
      "outputs": [],
      "execution_count": null,
      "metadata": {
        "collapsed": true,
        "jupyter": {
          "source_hidden": false,
          "outputs_hidden": false
        },
        "nteract": {
          "transient": {
            "deleting": false
          }
        }
      }
    },
    {
      "cell_type": "markdown",
      "source": [
        "La fonction video prend en argument une liste d'arrays de mêmes tailles, un temps par image (en millisecondes) et affiche le film constitué des images correspondantes (avec 1 = blanc, 0 = noir).\n",
        "\n",
        "Nous voilà face à un problème :\n",
        "\n",
        "Nous pouvons avoir accès aux tableaux de chaque étape de la fourmi, et en les enregistrant dans une liste, on pourrait montrer le film correpondant et ainsi voir notre fourmi avancer. Mais ces tableaux ne sont pas tous de la même taille !\n",
        "\n",
        "Comment peut-on alors faire pour obtenir des tableaux de même taille ?"
      ],
      "metadata": {
        "nteract": {
          "transient": {
            "deleting": false
          }
        }
      }
    },
    {
      "cell_type": "markdown",
      "source": [
        "Coder la fonction donnant la liste des bons tableaux (de mêmes tailles) jusqu'à l'étape n."
      ],
      "metadata": {
        "nteract": {
          "transient": {
            "deleting": false
          }
        }
      }
    },
    {
      "cell_type": "code",
      "source": [],
      "outputs": [],
      "execution_count": null,
      "metadata": {
        "collapsed": true,
        "jupyter": {
          "source_hidden": false,
          "outputs_hidden": false
        },
        "nteract": {
          "transient": {
            "deleting": false
          }
        }
      }
    },
    {
      "cell_type": "markdown",
      "source": [
        "Coder la fonction donnant le film jusqu'à l'étape n, en gardant le nombre de millisecondes par image en argument.\n",
        "\n",
        "Aller ensuite sur https://repl.it, \"start coding\", puis choisissez Python, puis \"create repl\".\n",
        "\n",
        "Tester ensuite (sur repl.it, bien penser à inclure toutes les étapes précédentes nécessaires, et enlever \"!pip install matplotlib\" dans la première cas de code) pour n = 200, et ms = 400, avec ms le nombre de millisecondes par image."
      ],
      "metadata": {
        "nteract": {
          "transient": {
            "deleting": false
          }
        }
      }
    },
    {
      "cell_type": "code",
      "source": [],
      "outputs": [],
      "execution_count": null,
      "metadata": {
        "collapsed": true,
        "jupyter": {
          "source_hidden": false,
          "outputs_hidden": false
        },
        "nteract": {
          "transient": {
            "deleting": false
          }
        }
      }
    },
    {
      "cell_type": "markdown",
      "source": [
        "Coder la fonction donnant les bons tableaux de l'étape n_d jusqu'à l'étape n_f."
      ],
      "metadata": {
        "nteract": {
          "transient": {
            "deleting": false
          }
        }
      }
    },
    {
      "cell_type": "code",
      "source": [],
      "outputs": [],
      "execution_count": null,
      "metadata": {
        "collapsed": true,
        "jupyter": {
          "source_hidden": false,
          "outputs_hidden": false
        },
        "nteract": {
          "transient": {
            "deleting": false
          }
        }
      }
    },
    {
      "cell_type": "markdown",
      "source": [
        "Coder la fonction donnant le film des étapes n_d à n_f, en gardant le nombre de millisecondes par image en argument.\n",
        "\n",
        "Tester ensuite pour n_d = 10100, n_f = 10500, ms = 500."
      ],
      "metadata": {
        "nteract": {
          "transient": {
            "deleting": false
          }
        }
      }
    },
    {
      "cell_type": "code",
      "source": [],
      "outputs": [],
      "execution_count": null,
      "metadata": {
        "collapsed": true,
        "jupyter": {
          "source_hidden": false,
          "outputs_hidden": false
        },
        "nteract": {
          "transient": {
            "deleting": false
          }
        }
      }
    }
  ],
  "metadata": {
    "colab": {
      "name": "Fourmi de Langton.ipynb",
      "provenance": [],
      "collapsed_sections": []
    },
    "kernelspec": {
      "name": "python3",
      "display_name": "Python 3"
    },
    "nteract": {
      "version": "0.26.0"
    }
  },
  "nbformat": 4,
  "nbformat_minor": 0
}