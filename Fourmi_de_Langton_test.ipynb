{
  "nbformat": 4,
  "nbformat_minor": 0,
  "metadata": {
    "colab": {
      "name": "Fourmi de Langton.ipynb",
      "provenance": [],
      "collapsed_sections": []
    },
    "kernelspec": {
      "name": "python3",
      "display_name": "Python 3"
    }
  },
  "cells": [
    {
      "cell_type": "markdown",
      "metadata": {
        "id": "IfQ599sLFi5V"
      },
      "source": [
        "> **Petit exercice d'info sympa : La fourmi de Langton**\n",
        "\n",
        "\n",
        "\n"
      ]
    },
    {
      "cell_type": "markdown",
      "metadata": {
        "id": "NiKNnobwHO5H"
      },
      "source": [
        "Quelques outils que je vous fournis (voir explications ci-dessous) :"
      ]
    },
    {
      "cell_type": "code",
      "metadata": {
        "id": "DqaCsjrfG9mZ"
      },
      "source": [
        "import matplotlib.pyplot as plt\n",
        "import matplotlib.animation as am\n",
        "\n",
        "class tableau():\n",
        "\t\n",
        "\tdef __init__(self, tab, d, x_b = 0, y_b = 0):\n",
        "\t\tself.d_val = d\n",
        "\t\tself.x_b = x_b\n",
        "\t\tself.y_b = y_b\n",
        "\t\tself.w = len(tab[0])\n",
        "\t\tself.h = len(tab)\n",
        "\t\tself.id = tab\n",
        "\t\n",
        "\tdef show(self, inter = 'nearest'):\n",
        "\t\tplt.figure()\n",
        "\t\tplt.imshow(self.id, cmap = 'gray', interpolation = inter)\n",
        "\t\tplt.pause(0.1)\n",
        "\t\n",
        "\tdef copy(self):\n",
        "\t\ttemp = [[self.id[i][j] for j in range(self.w)] for i in range(self.h)]\n",
        "\t\treturn tableau(temp, self.d_val, self.x_b, self.y_b)\n",
        "\t\n",
        "\tdef reverse_y(self):\n",
        "\t\ttemp = []\n",
        "\t\tfor i in range(self.h):\n",
        "\t\t\ttemp.append(self.id[self.h - i - 1])\n",
        "\t\tself.id = temp\n",
        "\t\n",
        "\tdef add_c(self, c):\n",
        "\t\tif c>0:\n",
        "\t\t\tfor j in range(self.h):\n",
        "\t\t\t\tself.id[j] = self.id[j] + [self.d_val]\n",
        "\t\telse:\n",
        "\t\t\tfor j in range(self.h):\n",
        "\t\t\t\tself.id[j] = [self.d_val] + self.id[j]\n",
        "\t\t\tself.x_b -= 1\n",
        "\t\tself.w += 1\n",
        "\t\n",
        "\tdef add_l(self, c):\n",
        "\t\tif c>0:\n",
        "\t\t\tself.id = self.id + [[self.d_val for i in range(self.w)]]\n",
        "\t\telse:\n",
        "\t\t\tself.id = [[self.d_val for i in range(self.w)]] + self.id\n",
        "\t\t\tself.y_b -= 1\n",
        "\t\tself.h += 1\n",
        "\t\n",
        "\tdef elt(self,x,y):\n",
        "\t\tif x<self.x_b or y<self.y_b or x>=self.x_b+self.w or y>=self.y_b+self.h:\n",
        "\t\t\treturn self.d_val\n",
        "\t\telse:\n",
        "\t\t\treturn self.id[y-self.y_b][x-self.x_b]\n",
        "\t\n",
        "\tdef chg_elt(self,x,y,e):\n",
        "\t\tif x<self.x_b or x>=self.x_b+self.w:\n",
        "\t\t\tself.add_c(x-self.x_b)\n",
        "\t\t\tself.chg_elt(x,y,e)\n",
        "\t\telif y<self.y_b or y>=self.y_b+self.h:\n",
        "\t\t\tself.add_l(y-self.y_b)\n",
        "\t\t\tself.chg_elt(x,y,e)\n",
        "\t\telse:\n",
        "\t\t\tself.id[y-self.y_b][x-self.x_b] = e\n",
        "\t\n",
        "\tdef include(self,left,right,bottom,top):\n",
        "\t\tself.chg_elt(left,bottom,self.elt(left,bottom))\n",
        "\t\tself.chg_elt(right,top,self.elt(right,top))\n",
        "\n",
        "def affiche_joli(t):\n",
        "  for e in t:\n",
        "    print(e)"
      ],
      "execution_count": 1,
      "outputs": []
    },
    {
      "cell_type": "markdown",
      "metadata": {
        "id": "XwWcPJJRGUco"
      },
      "source": [
        "En résumé rapide : La classe \"tableau\" mime un tableau infini.\n",
        "\n",
        "Exemple :\n",
        "\n",
        "je prends l'instruction suivante :"
      ]
    },
    {
      "cell_type": "code",
      "metadata": {
        "id": "3ITpdnQjFhHf"
      },
      "source": [
        "t = tableau([[1]],1)"
      ],
      "execution_count": 2,
      "outputs": []
    },
    {
      "cell_type": "markdown",
      "metadata": {
        "id": "F5HYL_0CHgJE"
      },
      "source": [
        "Par défaut, toutes les valeurs de t valent la valeur du deuxième argument passé à la fonction tableau, ici 1.\n",
        "\n",
        "On accède à l'élément d'abscisse x et d'ordonnée y par la méthode t.elt(x,y) (équivalent donc à t[y][x] pour un tableau python \"classique\" (c'est-à-dire une liste de listes, qu'on appellera par la suite \"array\" pour éviter les confusions avec la classe tableau introduite)).\n",
        "\n",
        "Exemple :"
      ]
    },
    {
      "cell_type": "code",
      "metadata": {
        "id": "PZoxl9voHvC0",
        "outputId": "9580be09-5668-4852-cf4b-29973c8881b2",
        "colab": {
          "base_uri": "https://localhost:8080/"
        }
      },
      "source": [
        "print(t.elt(-14,17))"
      ],
      "execution_count": 3,
      "outputs": [
        {
          "output_type": "stream",
          "text": [
            "1\n"
          ],
          "name": "stdout"
        }
      ]
    },
    {
      "cell_type": "markdown",
      "metadata": {
        "id": "lw_nkAT3JK4W"
      },
      "source": [
        "Evidemment, étant donné que même la mémoire des serveurs de google que nous sommes en train d'utiliser n'est pas infinie, les valeurs de t ne sont donc pas stockées une à une dans la mémoire.\n",
        "\n",
        "L'astuce consiste à dire que les valeurs de t sont toutes égales à 1 (pas besoin de les stocker une à une donc), sauf pour un nombre fini d'entre elles, qui seront stockées dans un array, auquel on peut accéder par la méthode t.id.\n",
        "\n",
        "Initialement, t.id vaut le premier argument passé à la fonction tableau, ici [[1]]."
      ]
    },
    {
      "cell_type": "code",
      "metadata": {
        "id": "Ew7RduhJLF4D",
        "outputId": "75fd3abe-46b4-42db-b435-cebbbb9b247b",
        "colab": {
          "base_uri": "https://localhost:8080/"
        }
      },
      "source": [
        "print(t.id)"
      ],
      "execution_count": 4,
      "outputs": [
        {
          "output_type": "stream",
          "text": [
            "[[1]]\n"
          ],
          "name": "stdout"
        }
      ]
    },
    {
      "cell_type": "markdown",
      "metadata": {
        "id": "vtgKB8sfLEYj"
      },
      "source": [
        "Ensuite, lorsque l'on veut modifier des cases (avec la méthode t.chg_elt(x,y,e), qui assigne à l'élément d'abscisse x et d'ordonnée y la valeur e, équivalent donc à t[y][x] = e pour un array) qui ne sont pas stockées dans t.id, t.id va simplement être agrandi pour contenir ces cases :"
      ]
    },
    {
      "cell_type": "code",
      "metadata": {
        "id": "tWbi1NCRLs6_"
      },
      "source": [
        "t.chg_elt(2,3,78)\n",
        "print(t.elt(2,3))\n",
        "affiche_joli(t.id)"
      ],
      "execution_count": null,
      "outputs": []
    },
    {
      "cell_type": "markdown",
      "metadata": {
        "id": "fpxP15ipWdS0"
      },
      "source": [
        "Repérons sur t.id où est le 0:"
      ]
    },
    {
      "cell_type": "code",
      "metadata": {
        "id": "LBbDbAZTWc4M"
      },
      "source": [
        "t.chg_elt(0,0,0)\n",
        "affiche_joli(t.id)"
      ],
      "execution_count": null,
      "outputs": []
    },
    {
      "cell_type": "markdown",
      "metadata": {
        "id": "uQ1V99liWrkr"
      },
      "source": [
        "Encore un exemple de modification du tableau :"
      ]
    },
    {
      "cell_type": "code",
      "metadata": {
        "id": "-UH1mN7sTiSr"
      },
      "source": [
        "t.chg_elt(-2,-3,65)\n",
        "print(t.elt(-2,-3))\n",
        "affiche_joli(t.id)"
      ],
      "execution_count": null,
      "outputs": []
    },
    {
      "cell_type": "markdown",
      "metadata": {
        "id": "FPlEN9F2ULOU"
      },
      "source": [
        "On peut agrandir \"manuellement\" t.id avec t.include(left,right,bottom,top) qui va faire en sorte que t.id stocke les valeurs incluses dans un rectangle délmité par left à gauche, right à droite, bottom en bas et top en haut :"
      ]
    },
    {
      "cell_type": "code",
      "metadata": {
        "id": "7EKD2OM3U0zU"
      },
      "source": [
        "t.include(-3,2,-4,3)\n",
        "affiche_joli(t.id)"
      ],
      "execution_count": null,
      "outputs": []
    },
    {
      "cell_type": "markdown",
      "metadata": {
        "id": "NseGRXb9XlZ_"
      },
      "source": [
        "Dans le cas d'un tableau constitué uniquement de 0 et de 1, la méthode t.show() donne une représentation de ce t.id (0 = noir, 1 = blanc) :"
      ]
    },
    {
      "cell_type": "code",
      "metadata": {
        "id": "a_ezxDHiXlEp"
      },
      "source": [
        "new = tableau([[1]],1)\n",
        "new.chg_elt(0,1,0)\n",
        "new.chg_elt(1,0,0)\n",
        "affiche_joli(new.id)\n",
        "new.show()"
      ],
      "execution_count": null,
      "outputs": []
    }
  ]
}