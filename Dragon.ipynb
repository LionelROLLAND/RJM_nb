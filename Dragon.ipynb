{
  "cells": [
    {
      "cell_type": "markdown",
      "source": [
        "> **Exercice d'info foufou : La figure du dragon**"
      ],
      "metadata": {
        "nteract": {
          "transient": {
            "deleting": false
          }
        }
      }
    },
    {
      "cell_type": "markdown",
      "source": [
        "Même classe tableau que tout à l'heure :"
      ],
      "metadata": {
        "nteract": {
          "transient": {
            "deleting": false
          }
        }
      }
    },
    {
      "cell_type": "code",
      "source": [
        "!pip install matplotlib\n",
        "\n",
        "import matplotlib.pyplot as plt\n",
        "\n",
        "class tableau():\n",
        "\t\n",
        "\tdef __init__(self, tab, d, x_b = 0, y_b = 0):\n",
        "\t\tself.d_val = d\n",
        "\t\tself.x_b = x_b\n",
        "\t\tself.y_b = y_b\n",
        "\t\tself.w = len(tab[0])\n",
        "\t\tself.h = len(tab)\n",
        "\t\tself.id = tab\n",
        "\t\n",
        "\tdef show(self,inter = 'nearest'):\n",
        "\t\tplt.figure()\n",
        "\t\tplt.imshow(self.id, cmap = 'gray', interpolation = inter)\n",
        "\t\tplt.pause(0.1)\n",
        "\t\n",
        "\tdef copy(self):\n",
        "\t\ttemp = [[self.id[i][j] for j in range(self.w)] for i in range(self.h)]\n",
        "\t\treturn tableau(temp, self.d_val, self.x_b, self.y_b)\n",
        "\t\n",
        "\tdef reverse_y(self):\n",
        "\t\ttemp = []\n",
        "\t\tfor i in range(self.h):\n",
        "\t\t\ttemp.append(self.id[self.h - i - 1])\n",
        "\t\tself.id = temp\n",
        "\t\n",
        "\tdef add_c(self, c):\n",
        "\t\tif c>0:\n",
        "\t\t\tfor j in range(self.h):\n",
        "\t\t\t\tself.id[j] = self.id[j] + [self.d_val]\n",
        "\t\telse:\n",
        "\t\t\tfor j in range(self.h):\n",
        "\t\t\t\tself.id[j] = [self.d_val] + self.id[j]\n",
        "\t\t\tself.x_b -= 1\n",
        "\t\tself.w += 1\n",
        "\t\n",
        "\tdef add_l(self, c):\n",
        "\t\tif c>0:\n",
        "\t\t\tself.id = self.id + [[self.d_val for i in range(self.w)]]\n",
        "\t\telse:\n",
        "\t\t\tself.id = [[self.d_val for i in range(self.w)]] + self.id\n",
        "\t\t\tself.y_b -= 1\n",
        "\t\tself.h += 1\n",
        "\t\n",
        "\tdef elt(self,x,y):\n",
        "\t\tif x<self.x_b or y<self.y_b or x>=self.x_b+self.w or y>=self.y_b+self.h:\n",
        "\t\t\treturn self.d_val\n",
        "\t\telse:\n",
        "\t\t\treturn self.id[y-self.y_b][x-self.x_b]\n",
        "\t\n",
        "\tdef chg_elt(self,x,y,e):\n",
        "\t\tif x<self.x_b or x>=self.x_b+self.w:\n",
        "\t\t\tself.add_c(x-self.x_b)\n",
        "\t\t\tself.chg_elt(x,y,e)\n",
        "\t\telif y<self.y_b or y>=self.y_b+self.h:\n",
        "\t\t\tself.add_l(y-self.y_b)\n",
        "\t\t\tself.chg_elt(x,y,e)\n",
        "\t\telse:\n",
        "\t\t\tself.id[y-self.y_b][x-self.x_b] = e\n",
        "\t\n",
        "\tdef include(self,left,right,bottom,top):\n",
        "\t\tself.chg_elt(left,bottom,self.elt(left,bottom))\n",
        "\t\tself.chg_elt(right,top,self.elt(right,top))"
      ],
      "outputs": [],
      "execution_count": null,
      "metadata": {
        "collapsed": true,
        "jupyter": {
          "source_hidden": false,
          "outputs_hidden": false
        },
        "nteract": {
          "transient": {
            "deleting": false
          }
        }
      }
    },
    {
      "cell_type": "markdown",
      "source": [
        "La question que l'on se pose est la suivante : en pliant en 2 plusiseurs fois successivement dans le même sens une bande de papier, puis en la redépliant de façon à mettre chaque pli à angle droit, quelle figure obtient-on ? Est-ce qu'une tendance se dégage ?"
      ],
      "metadata": {
        "nteract": {
          "transient": {
            "deleting": false
          }
        }
      }
    },
    {
      "cell_type": "markdown",
      "source": [
        "On veut pouvoir retracer le parcours de la feuille quand on la déplie. De quelles informations va-t-on avoir besoin ? Comment va-t-on stocker \"l'état\" de la feuille ?"
      ],
      "metadata": {
        "nteract": {
          "transient": {
            "deleting": false
          }
        }
      }
    },
    {
      "cell_type": "markdown",
      "source": [
        "Comment va-t-on pouvoir représenter l'alternance des tournants dans la feuille ?"
      ],
      "metadata": {
        "nteract": {
          "transient": {
            "deleting": false
          }
        }
      }
    },
    {
      "cell_type": "markdown",
      "source": [
        "Vient maintenant la question la plus dure : Une idée de comment calculer l'alternance des tournants à la n-ième étape ?"
      ],
      "metadata": {
        "nteract": {
          "transient": {
            "deleting": false
          }
        }
      }
    },
    {
      "cell_type": "markdown",
      "source": [
        "Comment à partir d'une liste de tournants l va-t-on calculer la liste des tournants parcourus dans le sens inverse ?"
      ],
      "metadata": {
        "nteract": {
          "transient": {
            "deleting": false
          }
        }
      }
    },
    {
      "cell_type": "markdown",
      "source": [
        "Coder la fonction renvoyant les tournants dans l'ordre inverse par rapport à la liste passée en argument."
      ],
      "metadata": {
        "nteract": {
          "transient": {
            "deleting": false
          }
        }
      }
    },
    {
      "cell_type": "code",
      "source": [],
      "outputs": [],
      "execution_count": null,
      "metadata": {
        "collapsed": true,
        "jupyter": {
          "source_hidden": false,
          "outputs_hidden": false
        },
        "nteract": {
          "transient": {
            "deleting": false
          }
        }
      }
    },
    {
      "cell_type": "markdown",
      "source": [
        "Coder la fonction renvoyant la liste des tournants inversés par rapport à la liste passée en argument."
      ],
      "metadata": {
        "nteract": {
          "transient": {
            "deleting": false
          }
        }
      }
    },
    {
      "cell_type": "code",
      "source": [],
      "outputs": [],
      "execution_count": null,
      "metadata": {
        "collapsed": true,
        "jupyter": {
          "source_hidden": false,
          "outputs_hidden": false
        },
        "nteract": {
          "transient": {
            "deleting": false
          }
        }
      }
    },
    {
      "cell_type": "markdown",
      "source": [
        "Coder la fonction donnant l'état de la feuille à la n-ième étape."
      ],
      "metadata": {
        "nteract": {
          "transient": {
            "deleting": false
          }
        }
      }
    },
    {
      "cell_type": "code",
      "source": [],
      "outputs": [],
      "execution_count": null,
      "metadata": {
        "collapsed": true,
        "jupyter": {
          "source_hidden": false,
          "outputs_hidden": false
        },
        "nteract": {
          "transient": {
            "deleting": false
          }
        }
      }
    },
    {
      "cell_type": "markdown",
      "source": [
        "Comment tracer un trait de longueur u dans une DIRECTION (*blink blink clin d'oeil clin d'oeil*) donnée sur notre tableau ?"
      ],
      "metadata": {
        "nteract": {
          "transient": {
            "deleting": false
          }
        }
      }
    },
    {
      "cell_type": "code",
      "source": [],
      "outputs": [],
      "execution_count": null,
      "metadata": {
        "collapsed": true,
        "jupyter": {
          "source_hidden": false,
          "outputs_hidden": false
        },
        "nteract": {
          "transient": {
            "deleting": false
          }
        }
      }
    },
    {
      "cell_type": "markdown",
      "source": [
        "Coder la fonction permettant d'obtenir la n-ième étape sur notre tableau."
      ],
      "metadata": {
        "nteract": {
          "transient": {
            "deleting": false
          }
        }
      }
    },
    {
      "cell_type": "code",
      "source": [],
      "outputs": [],
      "execution_count": null,
      "metadata": {
        "collapsed": true,
        "jupyter": {
          "source_hidden": false,
          "outputs_hidden": false
        },
        "nteract": {
          "transient": {
            "deleting": false
          }
        }
      }
    },
    {
      "cell_type": "markdown",
      "source": [
        "Coder la fonction affichant la n-ième étape. Essayer n=1,2,3,10,12..."
      ],
      "metadata": {
        "nteract": {
          "transient": {
            "deleting": false
          }
        }
      }
    },
    {
      "cell_type": "code",
      "source": [],
      "outputs": [],
      "execution_count": null,
      "metadata": {
        "collapsed": true,
        "jupyter": {
          "source_hidden": false,
          "outputs_hidden": false
        },
        "nteract": {
          "transient": {
            "deleting": false
          }
        }
      }
    }
  ],
  "metadata": {
    "kernel_info": {
      "name": "python3"
    },
    "language_info": {
      "name": "python3"
    },
    "kernelspec": {
      "argv": [
        "python",
        "-m",
        "ipykernel_launcher",
        "-f",
        "{connection_file}"
      ],
      "display_name": "Python 3",
      "language": "python",
      "name": "python3"
    },
    "nteract": {
      "version": "0.26.0"
    }
  },
  "nbformat": 4,
  "nbformat_minor": 0
}
